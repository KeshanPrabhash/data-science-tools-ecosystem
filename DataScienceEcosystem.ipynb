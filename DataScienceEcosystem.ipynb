{
 "cells": [
  {
   "cell_type": "markdown",
   "id": "78622e60-0fd8-4bae-9d7c-a68444570436",
   "metadata": {},
   "source": [
    "# h1 Data Science Tools and Ecosystem"
   ]
  },
  {
   "cell_type": "markdown",
   "id": "4a5d1f53-6af7-447f-a5a3-385967cd1870",
   "metadata": {},
   "source": [
    "In this notebook, Data Science Tools and Ecosystem are summarized.\r\n"
   ]
  },
  {
   "cell_type": "markdown",
   "id": "ecd53dfe-8556-465e-9833-f40c58770578",
   "metadata": {},
   "source": [
    "Some of the popular languages that Data Scientists use are:\r\n",
    "\r\n",
    "1. Python\r\n",
    "2. R\r\n",
    "3. SQL\r\n",
    "4. Julia\r\n"
   ]
  },
  {
   "cell_type": "markdown",
   "id": "1447c6a9-541f-480c-9935-e53f3fae221b",
   "metadata": {},
   "source": [
    "Some of the commonly used libraries used by Data Scientists include:\r\n",
    "\r\n",
    "1. Pandas\r\n",
    "2. NumPy\r\n",
    "3. Scikit-learn\r\n",
    "4. TensorFlow\r\n"
   ]
  },
  {
   "cell_type": "markdown",
   "id": "b2d60eb8-af5e-424d-bf19-888b888842ad",
   "metadata": {},
   "source": [
    "| Data Science Tools |\r\n",
    "|--------------------|\r\n",
    "| Jupyter Notebooks   |\r\n",
    "| RStudio             |\r\n",
    "| Apache Zeppelin     |\r\n"
   ]
  },
  {
   "cell_type": "markdown",
   "id": "f2811f3e-2222-40bd-808c-1e70590c6205",
   "metadata": {},
   "source": [
    "### Below are a few examples of evaluating arithmetic expressions in Python.\r\n"
   ]
  },
  {
   "cell_type": "code",
   "execution_count": 9,
   "id": "6fa29912-c0df-48a8-8655-c8544d32703c",
   "metadata": {},
   "outputs": [
    {
     "data": {
      "text/plain": [
       "17"
      ]
     },
     "execution_count": 9,
     "metadata": {},
     "output_type": "execute_result"
    }
   ],
   "source": [
    "# This is a simple arithmetic expression to multiply then add integers\n",
    "(3 * 4) + 5\n"
   ]
  },
  {
   "cell_type": "code",
   "execution_count": 11,
   "id": "d2f31d9e-f074-410d-8591-949cb60ab855",
   "metadata": {},
   "outputs": [
    {
     "data": {
      "text/plain": [
       "3.3333333333333335"
      ]
     },
     "execution_count": 11,
     "metadata": {},
     "output_type": "execute_result"
    }
   ],
   "source": [
    "# This will convert 200 minutes to hours by dividing by 60\n",
    "200 / 60\n"
   ]
  },
  {
   "cell_type": "markdown",
   "id": "361e36e4-8aca-43f5-b03e-b66c97b1d762",
   "metadata": {},
   "source": [
    "**Objectives:**\r\n",
    "\r\n",
    "- List popular languages for Data Science\r\n",
    "- List commonly used libraries for Data Science\r\n",
    "- Create tables using markdown\r\n",
    "- Perform simple arithmetic calculations in Python\r\n"
   ]
  },
  {
   "cell_type": "markdown",
   "id": "604672aa-2aa3-4dbd-bd9e-8d0c7698889d",
   "metadata": {},
   "source": [
    "# h2 Author\n",
    "Keshan Prabhash"
   ]
  },
  {
   "cell_type": "code",
   "execution_count": null,
   "id": "48321893-2c36-466c-b474-47521964dea8",
   "metadata": {},
   "outputs": [],
   "source": []
  }
 ],
 "metadata": {
  "kernelspec": {
   "display_name": "Python 3 (ipykernel)",
   "language": "python",
   "name": "python3"
  },
  "language_info": {
   "codemirror_mode": {
    "name": "ipython",
    "version": 3
   },
   "file_extension": ".py",
   "mimetype": "text/x-python",
   "name": "python",
   "nbconvert_exporter": "python",
   "pygments_lexer": "ipython3",
   "version": "3.11.7"
  }
 },
 "nbformat": 4,
 "nbformat_minor": 5
}
